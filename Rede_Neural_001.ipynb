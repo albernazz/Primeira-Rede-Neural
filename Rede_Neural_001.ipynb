{
  "nbformat": 4,
  "nbformat_minor": 0,
  "metadata": {
    "colab": {
      "provenance": [],
      "authorship_tag": "ABX9TyN9LQSQxs5WW4VfQuzYSRPU",
      "include_colab_link": true
    },
    "kernelspec": {
      "name": "python3",
      "display_name": "Python 3"
    },
    "language_info": {
      "name": "python"
    }
  },
  "cells": [
    {
      "cell_type": "markdown",
      "metadata": {
        "id": "view-in-github",
        "colab_type": "text"
      },
      "source": [
        "<a href=\"https://colab.research.google.com/github/albernazz/Primeira-Rede-Neural/blob/main/Rede_Neural_001.ipynb\" target=\"_parent\"><img src=\"https://colab.research.google.com/assets/colab-badge.svg\" alt=\"Open In Colab\"/></a>"
      ]
    },
    {
      "cell_type": "code",
      "execution_count": 2,
      "metadata": {
        "id": "7A6ZhI1bdwJt"
      },
      "outputs": [],
      "source": [
        "import numpy as np\n",
        "import torch\n",
        "import torch.nn.functional as F\n",
        "import torchvision\n",
        "import matplotlib.pyplot as plt\n",
        "from time import time\n",
        "from torchvision import datasets, transforms\n",
        "from torch import nn, optim"
      ]
    },
    {
      "cell_type": "code",
      "source": [
        "transform = transforms.ToTensor() #definindo a conversão de imagen para tensor\n",
        "\n",
        "trainset = datasets.MNIST('./MNIST_data/', download=True, train=True, transform=transform) # Carrega a parte de treino do dataset\n",
        "trainloader = torch.utils.data.DataLoader(trainset, batch_size=54, shuffle=True) # Cria un buffer para pegar os dados por partes\n",
        "\n",
        "valset = datasets.MNIST('./MNIST_data/', download=True, train=False, transform=transform) #Carrega a parte de validação do dataset\n",
        "valloader = torch.utils.data.DataLoader(valset, batch_size=64, shuffle=True) #e Cria un buffer para pegar os dados por partes"
      ],
      "metadata": {
        "id": "A-bdyIdoin9Y",
        "colab": {
          "base_uri": "https://localhost:8080/"
        },
        "outputId": "c8d248df-ee8f-4645-c4b8-8a33ddc12cff"
      },
      "execution_count": 3,
      "outputs": [
        {
          "output_type": "stream",
          "name": "stdout",
          "text": [
            "Downloading http://yann.lecun.com/exdb/mnist/train-images-idx3-ubyte.gz\n",
            "Failed to download (trying next):\n",
            "HTTP Error 403: Forbidden\n",
            "\n",
            "Downloading https://ossci-datasets.s3.amazonaws.com/mnist/train-images-idx3-ubyte.gz\n",
            "Downloading https://ossci-datasets.s3.amazonaws.com/mnist/train-images-idx3-ubyte.gz to ./MNIST_data/MNIST/raw/train-images-idx3-ubyte.gz\n"
          ]
        },
        {
          "output_type": "stream",
          "name": "stderr",
          "text": [
            "100%|██████████| 9.91M/9.91M [00:00<00:00, 60.0MB/s]\n"
          ]
        },
        {
          "output_type": "stream",
          "name": "stdout",
          "text": [
            "Extracting ./MNIST_data/MNIST/raw/train-images-idx3-ubyte.gz to ./MNIST_data/MNIST/raw\n",
            "\n",
            "Downloading http://yann.lecun.com/exdb/mnist/train-labels-idx1-ubyte.gz\n",
            "Failed to download (trying next):\n",
            "HTTP Error 403: Forbidden\n",
            "\n",
            "Downloading https://ossci-datasets.s3.amazonaws.com/mnist/train-labels-idx1-ubyte.gz\n",
            "Downloading https://ossci-datasets.s3.amazonaws.com/mnist/train-labels-idx1-ubyte.gz to ./MNIST_data/MNIST/raw/train-labels-idx1-ubyte.gz\n"
          ]
        },
        {
          "output_type": "stream",
          "name": "stderr",
          "text": [
            "100%|██████████| 28.9k/28.9k [00:00<00:00, 2.12MB/s]"
          ]
        },
        {
          "output_type": "stream",
          "name": "stdout",
          "text": [
            "Extracting ./MNIST_data/MNIST/raw/train-labels-idx1-ubyte.gz to ./MNIST_data/MNIST/raw\n",
            "\n",
            "Downloading http://yann.lecun.com/exdb/mnist/t10k-images-idx3-ubyte.gz\n"
          ]
        },
        {
          "output_type": "stream",
          "name": "stderr",
          "text": [
            "\n"
          ]
        },
        {
          "output_type": "stream",
          "name": "stdout",
          "text": [
            "Failed to download (trying next):\n",
            "HTTP Error 403: Forbidden\n",
            "\n",
            "Downloading https://ossci-datasets.s3.amazonaws.com/mnist/t10k-images-idx3-ubyte.gz\n",
            "Downloading https://ossci-datasets.s3.amazonaws.com/mnist/t10k-images-idx3-ubyte.gz to ./MNIST_data/MNIST/raw/t10k-images-idx3-ubyte.gz\n"
          ]
        },
        {
          "output_type": "stream",
          "name": "stderr",
          "text": [
            "100%|██████████| 1.65M/1.65M [00:00<00:00, 14.9MB/s]\n"
          ]
        },
        {
          "output_type": "stream",
          "name": "stdout",
          "text": [
            "Extracting ./MNIST_data/MNIST/raw/t10k-images-idx3-ubyte.gz to ./MNIST_data/MNIST/raw\n",
            "\n",
            "Downloading http://yann.lecun.com/exdb/mnist/t10k-labels-idx1-ubyte.gz\n",
            "Failed to download (trying next):\n",
            "HTTP Error 403: Forbidden\n",
            "\n",
            "Downloading https://ossci-datasets.s3.amazonaws.com/mnist/t10k-labels-idx1-ubyte.gz\n",
            "Downloading https://ossci-datasets.s3.amazonaws.com/mnist/t10k-labels-idx1-ubyte.gz to ./MNIST_data/MNIST/raw/t10k-labels-idx1-ubyte.gz\n"
          ]
        },
        {
          "output_type": "stream",
          "name": "stderr",
          "text": [
            "100%|██████████| 4.54k/4.54k [00:00<00:00, 4.02MB/s]"
          ]
        },
        {
          "output_type": "stream",
          "name": "stdout",
          "text": [
            "Extracting ./MNIST_data/MNIST/raw/t10k-labels-idx1-ubyte.gz to ./MNIST_data/MNIST/raw\n",
            "\n"
          ]
        },
        {
          "output_type": "stream",
          "name": "stderr",
          "text": [
            "\n"
          ]
        }
      ]
    },
    {
      "cell_type": "code",
      "source": [
        "dataiter = iter(trainloader)\n",
        "imagens, etiquetas = next(dataiter)\n",
        "plt.imshow(imagens[0].numpy().squeeze(), cmap='Purples');"
      ],
      "metadata": {
        "colab": {
          "base_uri": "https://localhost:8080/",
          "height": 430
        },
        "id": "UrOJlA8lo1mu",
        "outputId": "b47b75ac-0ce7-49b3-b2ea-9558ae196352"
      },
      "execution_count": 4,
      "outputs": [
        {
          "output_type": "display_data",
          "data": {
            "text/plain": [
              "<Figure size 640x480 with 1 Axes>"
            ],
            "image/png": "[encoded data removed]"
          },
          "metadata": {}
        }
      ]
    },
    {
      "cell_type": "code",
      "source": [
        "print(imagens[0].shape)#para verificar as dimensões do tensor de cada imagem\n",
        "print(etiquetas[0].shape)#para verificr as dimensões do tensor de cada etiqueta"
      ],
      "metadata": {
        "colab": {
          "base_uri": "https://localhost:8080/"
        },
        "id": "24T2CxSEq039",
        "outputId": "11ded914-52f7-4296-e03f-d2b1c48efe56"
      },
      "execution_count": 5,
      "outputs": [
        {
          "output_type": "stream",
          "name": "stdout",
          "text": [
            "torch.Size([1, 28, 28])\n",
            "torch.Size([])\n"
          ]
        }
      ]
    },
    {
      "cell_type": "code",
      "source": [
        "class Modelo(nn.Module):\n",
        "    def __init__(self):\n",
        "        super(Modelo, self).__init__()\n",
        "        # Camada de entrada: 784 neurônios (28x28 pixels) se conectam a 128 neurônios\n",
        "        self.linear1 = nn.Linear(28*28, 128)\n",
        "        # Camada interna 1: 128 neurônios se conectam a 64 neurônios\n",
        "        self.linear2 = nn.Linear(128, 64)\n",
        "        # Camada de saída: 64 neurônios se conectam a 10 neurônios (classes)\n",
        "        self.linear3 = nn.Linear(64, 10)\n",
        "\n",
        "    def forward(self, x):\n",
        "        # Passagem pela rede neura\n",
        "        x = F.relu(self.linear1(x))  # Função de ativação ReLU na primeira camada\n",
        "        x = F.relu(self.linear2(x))  # Função de ativação ReLU na segunda camada\n",
        "        x = self.linear3(x)         # Última camada linear (sem função de ativação)\n",
        "        # Aplicamos softmax para obter as probabilidades de cada classe\n",
        "        output = F.softmax(x, dim=1)\n",
        "        return output"
      ],
      "metadata": {
        "id": "F7YHKasVs7x1"
      },
      "execution_count": 6,
      "outputs": []
    },
    {
      "cell_type": "code",
      "source": [
        "def treino(modelo, trainloader, device):\n",
        "    criterion = nn.NLLLoss()  # Critério de perda: Negative Log Likelihood Loss\n",
        "    optimizer = optim.SGD(modelo.parameters(), lr=0.01, momentum=0.5)  # Otimizador: Stochastic Gradient Descent\n",
        "\n",
        "    EPOCHS = 18  # Número de vezes que o modelo passa por todo o conjunto de dados\n",
        "\n",
        "    modelo.train()  # Coloca o modelo em modo de treinamento\n",
        "\n",
        "    for epoch in range(EPOCHS):\n",
        "        perda_acumulada = 0\n",
        "        start_time = time.time()\n",
        "\n",
        "        for imagens, etiquetas in trainloader:\n",
        "            imagens = imagens.view(imagens.shape[0], -1).to(device)  # Converte imagens em tensores e envia para o dispositivo\n",
        "            etiquetas = etiquetas.to(device)\n",
        "\n",
        "            optimizer.zero_grad()  # Zera os gradientes acumulados\n",
        "            output = modelo(imagens)  # Passa as imagens pelo modelo para obter as predições\n",
        "            perda = criterion(output, etiquetas)  # Calcula a perda\n",
        "            perda.backward()  # Calcula os gradientes\n",
        "            optimizer.step()  # Atualiza os parâmetros do modelo\n",
        "\n",
        "            perda_acumulada += perda.item()\n",
        "\n",
        "        end_time = time.time()\n",
        "        print(f\"Época {epoch+1}/{EPOCHS}, Perda: {perda_acumulada/len(trainloader):.4f}, Tempo: {end_time-start_time:.2f}s\")"
      ],
      "metadata": {
        "id": "L2P5YDCN5o7h"
      },
      "execution_count": 7,
      "outputs": []
    },
    {
      "cell_type": "code",
      "source": [
        "def validacao(modelo, valloader, device):\n",
        "    \"\"\"\n",
        "    Calcula a precisão do modelo em um conjunto de validação.\n",
        "\n",
        "    Args:\n",
        "        modelo: O modelo de aprendizado de máquina a ser avaliado.\n",
        "        valloader: O carregador de dados para o conjunto de validação.\n",
        "        device: O dispositivo (CPU ou GPU) onde o modelo está sendo executado.\n",
        "    \"\"\"\n",
        "\n",
        "    conta_corretas = 0\n",
        "    conta_todas = 0\n",
        "\n",
        "    with torch.no_grad():\n",
        "        for imagens, etiquetas in valloader:\n",
        "            imagens = imagens.view(imagens.shape[0], -1).to(device)\n",
        "            etiquetas = etiquetas.to(device)\n",
        "\n",
        "            # Obtenha as predições do modelo (softmax é uma boa opção para classificação multiclasse)\n",
        "            logps = modelo(imagens)\n",
        "            ps = torch.exp(logps)\n",
        "            probabilidades, indices_preditos = torch.max(ps, 1)\n",
        "\n",
        "            conta_corretas += torch.sum(indices_preditos == etiquetas).item()\n",
        "            conta_todas += len(etiquetas)\n",
        "\n",
        "    # Calcular a precisão\n",
        "    acuracia = (conta_corretas / conta_todas) * 100\n",
        "    print(f\"Precisão do modelo: {acuracia:.2f}%\")"
      ],
      "metadata": {
        "id": "Exx56YL29BvC"
      },
      "execution_count": 8,
      "outputs": []
    },
    {
      "cell_type": "code",
      "source": [
        "Modelo = Modelo()\n",
        "device = torch.device(\"cuda\" if torch.cuda.is_available() else \"cpu\")\n",
        "Modelo.to(device)"
      ],
      "metadata": {
        "colab": {
          "base_uri": "https://localhost:8080/"
        },
        "collapsed": true,
        "id": "KQze78ov896W",
        "outputId": "70e150bb-afcb-457e-a0af-c63f2f702e4d"
      },
      "execution_count": 9,
      "outputs": [
        {
          "output_type": "execute_result",
          "data": {
            "text/plain": [
              "Modelo(\n",
              "  (linear1): Linear(in_features=784, out_features=128, bias=True)\n",
              "  (linear2): Linear(in_features=128, out_features=64, bias=True)\n",
              "  (linear3): Linear(in_features=64, out_features=10, bias=True)\n",
              ")"
            ]
          },
          "metadata": {},
          "execution_count": 9
        }
      ]
    }
  ]
}